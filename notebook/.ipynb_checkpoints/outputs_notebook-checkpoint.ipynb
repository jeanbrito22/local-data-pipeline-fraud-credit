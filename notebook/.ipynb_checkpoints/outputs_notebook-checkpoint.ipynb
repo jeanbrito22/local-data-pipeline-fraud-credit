{
 "cells": [
  {
   "cell_type": "code",
   "execution_count": null,
   "id": "1",
   "metadata": {},
   "outputs": [],
   "source": [
    "import pandas as pd\n",
    "\n",
    "# Caminhos dos arquivos gerados\n",
    "output_cleaned = \"data/output/cleaned_data.csv\"\n",
    "output_invalid = \"logs/invalid_mandatory_data.csv\"\n",
    "output_optional_issues = \"logs/optional_issues.csv\"\n",
    "quality_report_file = \"data/output/quality_report.csv\"\n",
    "avg_risk_score_by_region_file = \"data/output/avg_risk_score_by_region.csv\"\n",
    "top_receiving_addresses_file = \"data/output/top_receiving_addresses.csv\"\n",
    "\n",
    "# Carregar e exibir os dados limpos\n",
    "try:\n",
    "    valid_data = pd.read_csv(output_cleaned)\n",
    "    display(valid_data.head())\n",
    "except FileNotFoundError:\n",
    "    print(f\"Arquivo {output_cleaned} não encontrado.\")\n",
    "\n",
    "# Carregar e exibir os dados inválidos\n",
    "try:\n",
    "    invalid_data = pd.read_csv(output_invalid)\n",
    "    display(invalid_data.head())\n",
    "except FileNotFoundError:\n",
    "    print(f\"Arquivo {output_invalid} não encontrado.\")\n",
    "\n",
    "# Carregar e exibir os problemas opcionais\n",
    "try:\n",
    "    logging.info(\"Carregando problemas opcionais...\")\n",
    "    optional_issues = pd.read_csv(output_optional_issues)\n",
    "    display(optional_issues.head())\n",
    "except FileNotFoundError:\n",
    "    print(f\"Arquivo {output_optional_issues} não encontrado.\")\n",
    "\n",
    "# Carregar e exibir o relatório de qualidade\n",
    "try:\n",
    "    logging.info(\"Carregando relatório de qualidade...\")\n",
    "    report = pd.read_csv(quality_report_file)\n",
    "    display(report)\n",
    "except FileNotFoundError:\n",
    "    print(f\"Arquivo {quality_report_file} não encontrado.\")\n",
    "\n",
    "# Carregar e exibir a média de risk_score por região\n",
    "try:\n",
    "    logging.info(\"Carregando média de risk_score por região...\")\n",
    "    avg_risk_score_by_region = pd.read_csv(avg_risk_score_by_region_file)\n",
    "    display(avg_risk_score_by_region)\n",
    "except FileNotFoundError:\n",
    "    print(f\"Arquivo {avg_risk_score_by_region_file} não encontrado.\")\n",
    "\n",
    "# Carregar e exibir os top receiving addresses\n",
    "try:\n",
    "    logging.info(\"Carregando top receiving addresses...\")\n",
    "    top_receiving_addresses = pd.read_csv(top_receiving_addresses_file)\n",
    "    display(top_receiving_addresses)\n",
    "except FileNotFoundError:\n",
    "    print(f\"Arquivo {top_receiving_addresses_file} não encontrado.\")"
   ]
  }
 ],
 "metadata": {
  "kernelspec": {
   "display_name": "Python 3",
   "language": "python",
   "name": "python3"
  },
  "language_info": {
   "codemirror_mode": {
    "name": "ipython",
    "version": 3
   },
   "file_extension": ".py",
   "mimetype": "text/x-python",
   "name": "python",
   "nbconvert_exporter": "python",
   "pygments_lexer": "ipython3",
   "version": "3.8.5"
  }
 },
 "nbformat": 4,
 "nbformat_minor": 5
}
